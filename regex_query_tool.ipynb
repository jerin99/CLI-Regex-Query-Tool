{
 "cells": [
  {
   "cell_type": "code",
   "execution_count": 1,
   "id": "encouraging-nature",
   "metadata": {},
   "outputs": [],
   "source": [
    "import re\n",
    "from prettytable import PrettyTable"
   ]
  },
  {
   "cell_type": "code",
   "execution_count": 2,
   "id": "victorian-special",
   "metadata": {},
   "outputs": [],
   "source": [
    "class search:\n",
    "    def __init__(self):\n",
    "        self.string = input(r'Enter your text from which you want to search : ')\n",
    "        self.pattern = input('Enter your text to search : ')\n",
    "        print('1. Start\\n2. End\\n3. Any Position')\n",
    "        self.pos = int(input('Where do you want to search the pattern : '))\n",
    "                \n",
    "        if self.pos==1:\n",
    "            self.run_search_on_start(self.string, self.pattern)\n",
    "        elif self.pos==2:\n",
    "            self.run_search_on_end(self.string, self.pattern)\n",
    "        elif self.pos==3:\n",
    "            print('1. First occurance\\n2. All occurances')\n",
    "            self.no = int(input('How many occurances do you want to search : '))\n",
    "            self.run_search_on_anyPos(self.string, self.pattern, self.no)\n",
    "        else:\n",
    "            print('Invalid input')\n",
    "        \n",
    "    def run_search_on_anyPos(self, text, pattern, occurances):\n",
    "        regex = pattern\n",
    "        if occurances==1:\n",
    "            table = PrettyTable()\n",
    "            table.field_names = ['Start Index', 'End Index', 'Match String']\n",
    "            match = re.finditer(regex, text)\n",
    "            if match:\n",
    "                for i in match:\n",
    "                    start = i.start()\n",
    "                    end = i.end()\n",
    "                    table.add_row([start, end, text[start:end]])\n",
    "                    print(table)\n",
    "                    break\n",
    "            else:\n",
    "                print('No match found')\n",
    "\n",
    "        elif occurances==2:\n",
    "            table = PrettyTable()\n",
    "            table.field_names = ['Start Index', 'End Index', 'Match String']\n",
    "            match = re.finditer(regex, text)\n",
    "            if match:\n",
    "                for i in match:\n",
    "                    start = i.start()\n",
    "                    end = i.end()\n",
    "                    table.add_row([start, end, text[start:end]])\n",
    "                print(table)\n",
    "            else:\n",
    "                print('No match found')\n",
    "                    \n",
    "\n",
    "    def run_search_on_start(self, text, pattern):\n",
    "        pattern = '\\A'+pattern\n",
    "        regex = re.compile(pattern)\n",
    "        match = re.search(regex, text)\n",
    "        if match:\n",
    "            start = match.span()[0]\n",
    "            end = match.span()[1]\n",
    "            table = PrettyTable()\n",
    "            table.field_names = ['Start Index', 'End Index', 'Match String']\n",
    "            table.add_row([start, end, text[start:end]])\n",
    "            print(table)\n",
    "        else:\n",
    "            print('No match found')\n",
    "    def run_search_on_end(self, text, pattern):\n",
    "        pattern = pattern+'$'\n",
    "        regex = re.compile(pattern)\n",
    "        match = re.search(regex, text)\n",
    "        if match:\n",
    "            start = match.span()[0]\n",
    "            end = match.span()[1]\n",
    "            table = PrettyTable()\n",
    "            table.field_names = ['Start Index', 'End Index', 'Match String']\n",
    "            table.add_row([start, end, text[start:end]])\n",
    "            print(table)\n",
    "        else:\n",
    "            print('No match found')\n",
    "    \n",
    "        \n",
    "    \n",
    "        "
   ]
  },
  {
   "cell_type": "code",
   "execution_count": 5,
   "id": "elementary-stopping",
   "metadata": {},
   "outputs": [
    {
     "name": "stdout",
     "output_type": "stream",
     "text": [
      "Enter your text : Hi hello, There was a crow\n",
      "Enter your text to search : crow\n",
      "1. Start\n",
      "2. End\n",
      "3. Any Position\n",
      "Where do you want to search the pattern : 2\n",
      "+-------------+-----------+--------------+\n",
      "| Start Index | End Index | Match String |\n",
      "+-------------+-----------+--------------+\n",
      "|      22     |     26    |     crow     |\n",
      "+-------------+-----------+--------------+\n"
     ]
    }
   ],
   "source": [
    "s = search()"
   ]
  }
 ],
 "metadata": {
  "kernelspec": {
   "display_name": "Python 3",
   "language": "python",
   "name": "python3"
  },
  "language_info": {
   "codemirror_mode": {
    "name": "ipython",
    "version": 3
   },
   "file_extension": ".py",
   "mimetype": "text/x-python",
   "name": "python",
   "nbconvert_exporter": "python",
   "pygments_lexer": "ipython3",
   "version": "3.9.2"
  }
 },
 "nbformat": 4,
 "nbformat_minor": 5
}
